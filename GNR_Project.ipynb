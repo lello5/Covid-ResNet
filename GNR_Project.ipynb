{
  "nbformat": 4,
  "nbformat_minor": 0,
  "metadata": {
    "colab": {
      "name": "GNR Project.ipynb",
      "provenance": [],
      "collapsed_sections": []
    },
    "kernelspec": {
      "name": "python3",
      "display_name": "Python 3"
    },
    "accelerator": "GPU"
  },
  "cells": [
    {
      "cell_type": "code",
      "metadata": {
        "colab": {
          "base_uri": "https://localhost:8080/"
        },
        "id": "eDBEKKEnEq9v",
        "outputId": "ffdcd1b6-61aa-417f-f334-daff7d200ca8"
      },
      "source": [
        "from google.colab import drive\n",
        "drive.mount('/content/drive')"
      ],
      "execution_count": null,
      "outputs": [
        {
          "output_type": "stream",
          "text": [
            "Mounted at /content/drive\n"
          ],
          "name": "stdout"
        }
      ]
    },
    {
      "cell_type": "code",
      "metadata": {
        "id": "xAZ07Rs0pg8u"
      },
      "source": [
        "%cd drive/MyDrive\n",
        "%cd Project/COVID-19-master\n",
        "!ls"
      ],
      "execution_count": null,
      "outputs": []
    },
    {
      "cell_type": "code",
      "metadata": {
        "id": "iPZUIptJ5CQt"
      },
      "source": [
        "# # #importing \n",
        "import cv2\n",
        "import numpy as np\n",
        "import matplotlib.pyplot as plt\n",
        "import os\n",
        "from tqdm import tqdm"
      ],
      "execution_count": null,
      "outputs": []
    },
    {
      "cell_type": "code",
      "metadata": {
        "id": "-YVqCCFcuBg3"
      },
      "source": [
        "import numpy as np\n",
        "import tensorflow as tf\n",
        "\n",
        "from tensorflow.keras.applications import ResNet50\n",
        "from tensorflow.keras.models import Sequential\n",
        "from tensorflow.keras.layers import Dense, BatchNormalization"
      ],
      "execution_count": null,
      "outputs": []
    },
    {
      "cell_type": "markdown",
      "metadata": {
        "id": "FMizz_hj_NeY"
      },
      "source": [
        "DATASET PREPARATION AND PREPROCESSING"
      ]
    },
    {
      "cell_type": "code",
      "metadata": {
        "id": "HDcEG2hD5Kcj"
      },
      "source": [
        "# INPUT_SIZE = (128, 128)\n",
        "# mapping = {'normal': 0, 'pneumonia': 1,  'COVID-19': 2}\n",
        "# train_filepath = 'train_COVIDx5.txt'\n",
        "# test_filepath = 'test_COVIDx5.txt'"
      ],
      "execution_count": null,
      "outputs": []
    },
    {
      "cell_type": "code",
      "metadata": {
        "id": "BPRc2Qfx5N6n"
      },
      "source": [
        "# # # load in the train and test files\n",
        "# file = open(train_filepath, 'r')\n",
        "# trainfiles = file.readlines()\n",
        "# # file = open(test_filepath, 'r')\n",
        "# # testfiles = file.readlines()"
      ],
      "execution_count": null,
      "outputs": []
    },
    {
      "cell_type": "code",
      "metadata": {
        "id": "B39JKgpZ5R82"
      },
      "source": [
        "# print('Total samples for train: ', len(trainfiles))\n",
        "# print('Total samples for test: ', len(testfiles))"
      ],
      "execution_count": null,
      "outputs": []
    },
    {
      "cell_type": "code",
      "metadata": {
        "id": "nkd9aTmq5U_t"
      },
      "source": [
        "# resize to input size and normalize to 0 - 1\n",
        "# x_test = []\n",
        "# y_test = []\n",
        "\n",
        "# for i in range(len(testfiles)):\n",
        "#     test_i = testfiles[i].split()\n",
        "#     imgpath = test_i[1]\n",
        "#     img = cv2.imread(os.path.join('data', 'test', imgpath))\n",
        "#     img = cv2.resize(img, INPUT_SIZE) # resize\n",
        "#     img = img.astype('float32') / 255.0\n",
        "#     x_test.append(img)\n",
        "#     y_test.append(mapping[test_i[2]])\n",
        "\n",
        "# print('Shape of test images: ', x_test[0].shape)\n",
        "\n",
        "\n",
        "# x_test = []\n",
        "# y_test = []\n",
        "\n",
        "# for i in range(len(testfiles)):\n",
        "#     test_i = testfiles[i].split()\n",
        "#     imgpath = test_i[1]\n",
        "#     img = cv2.imread(os.path.join('data', 'test', imgpath))\n",
        "#     img = cv2.resize(img, INPUT_SIZE) # resize\n",
        "#     img = img.astype('float32') / 255.0\n",
        "#     x_test.append(img)\n",
        "#     y_test.append(mapping[test_i[2]])\n",
        "\n",
        "# print('Shape of test images: ', len(x_test))"
      ],
      "execution_count": null,
      "outputs": []
    },
    {
      "cell_type": "code",
      "metadata": {
        "id": "ST62XtGfFTPY"
      },
      "source": [
        "# print(np.shape(x_test),y_test)"
      ],
      "execution_count": null,
      "outputs": []
    },
    {
      "cell_type": "code",
      "metadata": {
        "id": "WIoMx0mz5YVe"
      },
      "source": [
        "# export to npy to load in for training\n",
        "\n",
        "# np.save('data/x_test.npy', x_test)\n",
        "# np.save('data/y_test.npy', y_test)"
      ],
      "execution_count": null,
      "outputs": []
    },
    {
      "cell_type": "code",
      "metadata": {
        "id": "CoIiTGPqK2Y4"
      },
      "source": [
        "# import cv2\n",
        "# import numpy as np\n",
        "# import matplotlib.pyplot as plt\n",
        "# import os\n",
        "# from tqdm import tqdm\n",
        "# x_train = []\n",
        "# INPUT_SIZE = (128, 128)\n",
        "# train_filepath = 'train_COVIDx5.txt'\n",
        "# file = open(train_filepath, 'r')\n",
        "# trainfiles = file.readlines()\n",
        "# for i in tqdm(range(len(trainfiles))):\n",
        "#   train_i = trainfiles[i].split()\n",
        "#   imgpath = train_i[1]\n",
        "#   img = cv2.imread(os.path.join('data', 'train', imgpath))\n",
        "#   #print(imgpath)\n",
        "#   img = cv2.resize(img, INPUT_SIZE) # resize\n",
        "#   img = img.astype('float32') / 255.0\n",
        "#   x_train.append(img)\n",
        "# np.save('data/x_train_128.npy', x_train)\n",
        " \n",
        " \n",
        "# x_train = []\n",
        "# INPUT_SIZE = (229, 229)\n",
        "# train_filepath = 'train_COVIDx5.txt'\n",
        "# file = open(train_filepath, 'r')\n",
        "# trainfiles = file.readlines()\n",
        "# for i in tqdm(range(len(trainfiles))):\n",
        "#   train_i = trainfiles[i].split()\n",
        "#   imgpath = train_i[1]\n",
        "#   img = cv2.imread(os.path.join('data', 'train', imgpath))\n",
        "#   #print(imgpath)\n",
        "#   img = cv2.resize(img, INPUT_SIZE) # resize\n",
        "#   img = img.astype('float32') / 255.0\n",
        "#   x_train.append(img)\n",
        "# np.save('data/x_train_229.npy', x_train)\n",
        "# # print('Shape of train images: ', x_train[0].shape)"
      ],
      "execution_count": null,
      "outputs": []
    },
    {
      "cell_type": "code",
      "metadata": {
        "id": "QMXautwpGFGB"
      },
      "source": [
        "# np.save('data/x_train_128.npy', x_train)\n",
        "# # np.save('data/y_train.npy', y_train)"
      ],
      "execution_count": null,
      "outputs": []
    },
    {
      "cell_type": "code",
      "metadata": {
        "id": "hFwS18JstGRM"
      },
      "source": [
        "# !python Mykeras_model.py"
      ],
      "execution_count": null,
      "outputs": []
    },
    {
      "cell_type": "code",
      "metadata": {
        "id": "CVOshbuYJhnx"
      },
      "source": [
        "# !python Naddemmain.py"
      ],
      "execution_count": null,
      "outputs": []
    },
    {
      "cell_type": "code",
      "metadata": {
        "id": "fkudCtj-tNVc"
      },
      "source": [
        "# xtrain = np.load('data/x_train.npy')\n",
        "# ytrain = np.load('data/y_train.npy')\n",
        "\n",
        "# print(\"RUN HOGAYA\") \n",
        "    \n",
        "# xtest = np.load('data/x_test.npy')\n",
        "# ytest = np.load('data/y_test.npy')"
      ],
      "execution_count": null,
      "outputs": []
    },
    {
      "cell_type": "markdown",
      "metadata": {
        "id": "u8yC4E1i_5oD"
      },
      "source": [
        "Load npy files of each sizes"
      ]
    },
    {
      "cell_type": "code",
      "metadata": {
        "id": "igRoYtFWOTW-",
        "colab": {
          "base_uri": "https://localhost:8080/"
        },
        "outputId": "d00d5205-b754-4452-d515-7ebf78733457"
      },
      "source": [
        "from os import listdir\n",
        "from os.path import isfile, join\n",
        "xtrain_224 = np.load('data/x_train.npy')\n",
        "print(\"RUN HOGAYA\")\n",
        "ytrain = np.load('data/y_train.npy')\n",
        "    \n",
        "xtest = np.load('data/x_test.npy')\n",
        "ytest = np.load('data/y_test.npy')"
      ],
      "execution_count": null,
      "outputs": [
        {
          "output_type": "stream",
          "text": [
            "RUN HOGAYA\n"
          ],
          "name": "stdout"
        }
      ]
    },
    {
      "cell_type": "code",
      "metadata": {
        "colab": {
          "base_uri": "https://localhost:8080/"
        },
        "id": "cQ-6ggSqpS9E",
        "outputId": "6c0ff73c-dd46-4800-d4c6-dd65081420c1"
      },
      "source": [
        "xtrain_128=np.load('data/x_train_128.npy')\n",
        "print(\"RUN HOGAYA\")"
      ],
      "execution_count": null,
      "outputs": [
        {
          "output_type": "stream",
          "text": [
            "RUN HOGAYA\n"
          ],
          "name": "stdout"
        }
      ]
    },
    {
      "cell_type": "code",
      "metadata": {
        "id": "xmp5Q0DLpTDc"
      },
      "source": [
        "xtrain_229=np.load('data/x_train_229.npy')\n",
        "ytrain = np.load('data/y_train.npy')\n",
        "print(\"RUN HOGAYA\")"
      ],
      "execution_count": null,
      "outputs": []
    },
    {
      "cell_type": "markdown",
      "metadata": {
        "id": "i3nkT6VvOgpU"
      },
      "source": [
        "Main code"
      ]
    },
    {
      "cell_type": "code",
      "metadata": {
        "id": "BvcZRAUKsF2O"
      },
      "source": [
        "def confusion_matrix_info(y_true, y_pred, labels=['normal', 'pneumonia',  'COVID-19'],\n",
        "                          title='confusion matrix'):\n",
        "    import seaborn as sns\n",
        "    import pandas as pd\n",
        "    from sklearn.metrics import confusion_matrix, f1_score\n",
        "    import matplotlib.pyplot as plt\n",
        "    C2 = confusion_matrix(y_true, y_pred)\n",
        "    C = pd.DataFrame(C2, columns=labels, index=labels)\n",
        "    m, _ = C2.shape\n",
        "    for i in range(m):\n",
        "        precision = C2[i, i] / sum(C2[:, i])\n",
        "        recall = C2[i, i] / sum(C2[i, :])\n",
        "        f1 = 2 * precision * recall / (precision + recall)\n",
        "        print('In class {}:\\t total samples: {}\\t true predict samples: {}\\t'\n",
        "              'acc={:.4f},\\trecall={:.4f},\\tf1-score={:.4f}'.format(\n",
        "            labels[i], sum(C2[i, :]), C2[i, i], precision, recall, f1))\n",
        "    print('-' * 100, '\\n', 'average f1={:.4f}'.format(f1_score(y_true, y_pred, average='micro')))\n",
        " \n",
        "    f, ax = plt.subplots()\n",
        "    sns.heatmap(C, annot=True, ax=ax, cmap=plt.cm.binary)\n",
        "    ax.set_title(title)\n",
        "    ax.set_xlabel('predict')\n",
        "    ax.set_ylabel('true')\n",
        "    plt.savefig(title+'.jpg')"
      ],
      "execution_count": null,
      "outputs": []
    },
    {
      "cell_type": "code",
      "metadata": {
        "id": "NFQAuF4LySSs"
      },
      "source": [
        "\n",
        "resnet_weights_path = 'resnet50_weights_tf_dim_ordering_tf_kernels_notop.h5'\n",
        "NUM_CLASSES = 3\n",
        "DENSE_LAYER_ACTIVATION = 'softmax'\n",
        "\n"
      ],
      "execution_count": null,
      "outputs": []
    },
    {
      "cell_type": "code",
      "metadata": {
        "id": "K0Z7sEgdd2FW"
      },
      "source": [
        "#resnet_weights_path = 'resnet50_weights_tf_dim_ordering_tf_kernels_notop.h5'\n",
        "NUM_CLASSES = 3\n",
        "DENSE_LAYER_ACTIVATION = 'softmax'\n",
        "\n",
        "def first_keras_model():\n",
        "    model1 = Sequential()\n",
        "\n",
        "    # 1st layer as the lumpsum weights from resnet50_weights_tf_dim_ordering_tf_kernels_notop.h5\n",
        "    # NOTE that this layer will be set below as NOT TRAINABLE, i.e., use it as is\n",
        "    model1.add(ResNet50(include_top = False,input_shape=(128,128,3), pooling = 'avg', weights = resnet_weights_path))\n",
        "    model1.add(BatchNormalization())\n",
        "\n",
        "    # 2nd layer as Dense for 2-class classification, i.e., dog or cat using SoftMax activation\n",
        "    model1.add(Dense(NUM_CLASSES, activation = DENSE_LAYER_ACTIVATION))\n",
        "\n",
        "    # Say not to train first layer (ResNet) model as it is already trained\n",
        "    \n",
        "    return model1\n",
        "\n",
        "def Second_keras_model():\n",
        "    model2 = Sequential()\n",
        "\n",
        "    # 1st layer as the lumpsum weights from resnet50_weights_tf_dim_ordering_tf_kernels_notop.h5\n",
        "    # NOTE that this layer will be set below as NOT TRAINABLE, i.e., use it as is\n",
        "    model2.add(ResNet50(include_top = False,input_shape=(224,224,3), pooling = 'avg',weights = resnet_weights_path))\n",
        "    model2.add(BatchNormalization())\n",
        "\n",
        "    # 2nd layer as Dense for 2-class classification, i.e., dog or cat using SoftMax activation\n",
        "    model2.add(Dense(NUM_CLASSES, activation = DENSE_LAYER_ACTIVATION))\n",
        "    model2.load_weights(\"model1.h5\")\n",
        "\n",
        "    # Say not to train first layer (ResNet) model as it is already trained\n",
        "    \n",
        "    return model2\n",
        "\n",
        "def Third_keras_model():\n",
        "    model3 = Sequential()\n",
        "\n",
        "    # 1st layer as the lumpsum weights from resnet50_weights_tf_dim_ordering_tf_kernels_notop.h5\n",
        "    # NOTE that this layer will be set below as NOT TRAINABLE, i.e., use it as is\n",
        "    model3.add(ResNet50(include_top = False,input_shape=(229,229,3), pooling = 'avg',weights = resnet_weights_path))\n",
        "    model3.add(BatchNormalization())\n",
        "\n",
        "    # 2nd layer as Dense for 2-class classification, i.e., dog or cat using SoftMax activation\n",
        "    model3.add(Dense(NUM_CLASSES, activation = DENSE_LAYER_ACTIVATION))\n",
        "    model3.load_weights(\"model2.h5\")\n",
        "\n",
        "    # Say not to train first layer (ResNet) model as it is already trained\n",
        "    \n",
        "    return model3"
      ],
      "execution_count": null,
      "outputs": []
    },
    {
      "cell_type": "code",
      "metadata": {
        "id": "icGl2kD9Oi5Z"
      },
      "source": [
        "def train(xtrain128,xtrain224,xtrain229, y):\n",
        "    y = tf.keras.utils.to_categorical(y, 3)\n",
        "    y_test = tf.keras.utils.to_categorical(y_test, 3)\n",
        "\n",
        "\n",
        "    #TRAINING ON 128*128 WITH FREEZED RESNET LAYER\n",
        "    model = first_keras_model()\n",
        "    model=model\n",
        "    model.layers[0].trainable = False\n",
        "    print(model.summary())\n",
        "    opt=tf.keras.optimizers.Adam(lr=0.001)\n",
        "    model.compile(loss='categorical_crossentropy', optimizer=opt, metrics=['accuracy'])\n",
        "    hist = model.fit(xtrain128, y, batch_size=32,  epochs=3, verbose=1)\n",
        "\n",
        "\n",
        "    #FINE TUNING ON 128*128 WITH UNFREEZED RESNET LAYER\n",
        "    model.layers[0].trainable = True\n",
        "    print(model.summary())\n",
        "    opt=tf.keras.optimizers.Adam(lr=0.001)\n",
        "    model.compile(loss='categorical_crossentropy', optimizer=opt, metrics=['accuracy'])\n",
        "    hist = model.fit(xtrain128, y, batch_size=32,  epochs=5, verbose=1)\n",
        "    model.save('model1.h5')\n",
        "\n",
        "\n",
        "    #TRAINING ON 224*224 WITH FREEZED RESNET LAYER\n",
        "    model2 = Second_keras_model()\n",
        "    #print(model2.summary)\n",
        "    model2.layers[0].trainable = False\n",
        "    \n",
        "    print(model2.summary())\n",
        "    opt=tf.keras.optimizers.Adam(lr=0.0001)\n",
        "    model2.compile(loss='categorical_crossentropy', optimizer=opt, metrics=['accuracy'])\n",
        "    hist = model2.fit(xtrain224, y, batch_size=32,  epochs=3, verbose=1)\n",
        "\n",
        "\n",
        "    #FINE TUNING ON 224 WITH UNFREEZED RESNET LAYER\n",
        "    model2=model2\n",
        "    model2.layers[0].trainable = True\n",
        "    print(model2.summary())\n",
        "    opt=tf.keras.optimizers.Adam(lr=0.0001)\n",
        "    model2.compile(loss='categorical_crossentropy', optimizer=opt, metrics=['accuracy'])\n",
        "    hist = model2.fit(xtrain224, y, batch_size=32,  epochs=5, verbose=1)\n",
        "    model2.save('model2.h5')\n",
        "\n",
        "    #TRAINING ON 229*229 WITH FREEZED RESNET LAYER\n",
        "    model3 = Third_keras_model()\n",
        "    model3=model3(training=False)\n",
        "    model3.layers[0].trainable = False\n",
        "    print(model3.summary())\n",
        "    opt=tf.keras.optimizers.Adam(lr=0.00001)\n",
        "    model3.compile(loss='categorical_crossentropy', optimizer=opt, metrics=['accuracy'])\n",
        "    hist = model3.fit(xtrain229, y, batch_size=32, epochs=25, verbose=1)\n",
        "    model3.save('Final_model.h5')\n",
        "    y_pred = model2.predict(xtrain224)\n",
        "    confusion_matrix_info(np.argmax(y, axis=1), np.argmax(y_pred, axis=1),title='confusion_matrix_train')"
      ],
      "execution_count": null,
      "outputs": []
    },
    {
      "cell_type": "code",
      "metadata": {
        "id": "XMcHH1qUsSZN"
      },
      "source": [
        "def test(xt, yt):\n",
        "    model = tf.keras.models.load_model('model2.h5')\n",
        "    xt = np.load('data/x_test.npy')\n",
        "    yt = np.load('data/y_test.npy')\n",
        "    y_pred = model.predict(xt)\n",
        "    confusion_matrix_info(yt, np.argmax(y_pred, axis=1),title='confusion_matrix_test')"
      ],
      "execution_count": null,
      "outputs": []
    },
    {
      "cell_type": "code",
      "metadata": {
        "colab": {
          "base_uri": "https://localhost:8080/",
          "height": 1000
        },
        "id": "vd0EDNOlOnBg",
        "outputId": "17b74fa0-4d73-42b6-b6d1-390d350b0962"
      },
      "source": [
        "train(xtrain_128,xtrain_224,xtrain_229, ytrain)"
      ],
      "execution_count": null,
      "outputs": [
        {
          "output_type": "stream",
          "text": [
            "Model: \"sequential_7\"\n",
            "_________________________________________________________________\n",
            "Layer (type)                 Output Shape              Param #   \n",
            "=================================================================\n",
            "resnet50 (Functional)        (None, 2048)              23587712  \n",
            "_________________________________________________________________\n",
            "batch_normalization_7 (Batch (None, 2048)              8192      \n",
            "_________________________________________________________________\n",
            "dense_7 (Dense)              (None, 3)                 6147      \n",
            "=================================================================\n",
            "Total params: 23,602,051\n",
            "Trainable params: 10,243\n",
            "Non-trainable params: 23,591,808\n",
            "_________________________________________________________________\n",
            "None\n",
            "Epoch 1/3\n",
            "437/437 [==============================] - 27s 62ms/step - loss: 0.7517 - accuracy: 0.6770\n",
            "Epoch 2/3\n",
            "437/437 [==============================] - 27s 61ms/step - loss: 0.6063 - accuracy: 0.7542\n",
            "Epoch 3/3\n",
            "437/437 [==============================] - 27s 61ms/step - loss: 0.5770 - accuracy: 0.7648\n",
            "Model: \"sequential_7\"\n",
            "_________________________________________________________________\n",
            "Layer (type)                 Output Shape              Param #   \n",
            "=================================================================\n",
            "resnet50 (Functional)        (None, 2048)              23587712  \n",
            "_________________________________________________________________\n",
            "batch_normalization_7 (Batch (None, 2048)              8192      \n",
            "_________________________________________________________________\n",
            "dense_7 (Dense)              (None, 3)                 6147      \n",
            "=================================================================\n",
            "Total params: 23,602,051\n",
            "Trainable params: 23,544,835\n",
            "Non-trainable params: 57,216\n",
            "_________________________________________________________________\n",
            "None\n",
            "Epoch 1/5\n",
            "437/437 [==============================] - 76s 173ms/step - loss: 0.3541 - accuracy: 0.8892\n",
            "Epoch 2/5\n",
            "437/437 [==============================] - 75s 173ms/step - loss: 0.1492 - accuracy: 0.9472\n",
            "Epoch 3/5\n",
            "437/437 [==============================] - 76s 173ms/step - loss: 0.0866 - accuracy: 0.9694\n",
            "Epoch 4/5\n",
            "437/437 [==============================] - 76s 173ms/step - loss: 0.0638 - accuracy: 0.9774\n",
            "Epoch 5/5\n",
            "437/437 [==============================] - 75s 172ms/step - loss: 0.0555 - accuracy: 0.9802\n",
            "In class normal:\t total samples: 7966\t true predict samples: 7895\tacc=0.9776,\trecall=0.9911,\tf1-score=0.9843\n",
            "In class pneumonia:\t total samples: 5475\t true predict samples: 5136\tacc=0.9886,\trecall=0.9381,\tf1-score=0.9627\n",
            "In class COVID-19:\t total samples: 517\t true predict samples: 515\tacc=0.7496,\trecall=0.9961,\tf1-score=0.8555\n",
            "---------------------------------------------------------------------------------------------------- \n",
            " average f1=0.9705\n"
          ],
          "name": "stdout"
        },
        {
          "output_type": "display_data",
          "data": {
            "image/png": "[encoded data removed]",
            "text/plain": [
              "<Figure size 432x288 with 2 Axes>"
            ]
          },
          "metadata": {
            "tags": [],
            "needs_background": "light"
          }
        }
      ]
    },
    {
      "cell_type": "code",
      "metadata": {
        "id": "Pp2L5HpyqV8c"
      },
      "source": [
        "test(xtest, ytest)"
      ],
      "execution_count": null,
      "outputs": []
    }
  ]
}