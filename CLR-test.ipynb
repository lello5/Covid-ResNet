{
 "cells": [
  {
   "cell_type": "code",
   "execution_count": 2,
   "metadata": {},
   "outputs": [],
   "source": [
    "from tensorflow.keras.datasets import mnist\n",
    "from tensorflow.keras.models import Sequential\n",
    "from tensorflow.keras.layers import Dense, Flatten, Conv2D, MaxPooling2D\n",
    "from tensorflow.keras.losses import sparse_categorical_crossentropy\n",
    "from tensorflow.keras.optimizers import Adam\n",
    "import matplotlib.pyplot as plt\n",
    "from CLR.clr_callback import CyclicLR\n",
    "from LRF.lr_finder import LRFinder"
   ]
  },
  {
   "cell_type": "code",
   "execution_count": 10,
   "metadata": {},
   "outputs": [],
   "source": [
    "import numpy as np"
   ]
  },
  {
   "cell_type": "code",
   "execution_count": 11,
   "metadata": {},
   "outputs": [
    {
     "name": "stdout",
     "output_type": "stream",
     "text": [
      "RUN HOGAYA\n"
     ]
    }
   ],
   "source": [
    "xtrain_128=np.load('data/x_train_128.npy')\n",
    "print(\"RUN HOGAYA\")"
   ]
  },
  {
   "cell_type": "code",
   "execution_count": 27,
   "metadata": {},
   "outputs": [
    {
     "name": "stdout",
     "output_type": "stream",
     "text": [
      "RUN HOGAYA\n"
     ]
    }
   ],
   "source": [
    "ytrain = np.load('data/y_train.npy')\n",
    "print(\"RUN HOGAYA\")"
   ]
  },
  {
   "cell_type": "code",
   "execution_count": 28,
   "metadata": {},
   "outputs": [],
   "source": [
    "ytrain = tf.keras.utils.to_categorical(ytrain, 3)"
   ]
  },
  {
   "cell_type": "code",
   "execution_count": 13,
   "metadata": {},
   "outputs": [],
   "source": [
    "import numpy as np\n",
    "import tensorflow as tf\n",
    "\n",
    "from tensorflow.keras.applications import ResNet50\n",
    "from tensorflow.keras.models import Sequential\n",
    "from tensorflow.keras.layers import Dense, BatchNormalization"
   ]
  },
  {
   "cell_type": "code",
   "execution_count": 14,
   "metadata": {},
   "outputs": [],
   "source": [
    "from os import listdir\n",
    "from os.path import isfile, join"
   ]
  },
  {
   "cell_type": "code",
   "execution_count": 21,
   "metadata": {},
   "outputs": [],
   "source": [
    "resnet_weights_path = 'code/resnet50_weights_tf_dim_ordering_tf_kernels_notop.h5'\n",
    "NUM_CLASSES = 3\n",
    "DENSE_LAYER_ACTIVATION = 'softmax'"
   ]
  },
  {
   "cell_type": "code",
   "execution_count": 22,
   "metadata": {},
   "outputs": [],
   "source": [
    "#resnet_weights_path = 'resnet50_weights_tf_dim_ordering_tf_kernels_notop.h5'\n",
    "NUM_CLASSES = 3\n",
    "DENSE_LAYER_ACTIVATION = 'softmax'\n",
    "\n",
    "def first_keras_model():\n",
    "    model1 = Sequential()\n",
    "\n",
    "    # 1st layer as the lumpsum weights from resnet50_weights_tf_dim_ordering_tf_kernels_notop.h5\n",
    "    # NOTE that this layer will be set below as NOT TRAINABLE, i.e., use it as is\n",
    "    model1.add(ResNet50(include_top = False,input_shape=(128,128,3), pooling = 'avg', weights = resnet_weights_path))\n",
    "    model1.add(BatchNormalization())\n",
    "\n",
    "    # 2nd layer as Dense for 2-class classification, i.e., dog or cat using SoftMax activation\n",
    "    model1.add(Dense(NUM_CLASSES, activation = DENSE_LAYER_ACTIVATION))\n",
    "\n",
    "    # Say not to train first layer (ResNet) model as it is already trained\n",
    "    \n",
    "    return model1\n",
    "\n",
    "def Second_keras_model():\n",
    "    model2 = Sequential()\n",
    "\n",
    "    # 1st layer as the lumpsum weights from resnet50_weights_tf_dim_ordering_tf_kernels_notop.h5\n",
    "    # NOTE that this layer will be set below as NOT TRAINABLE, i.e., use it as is\n",
    "    model2.add(ResNet50(include_top = False,input_shape=(224,224,3), pooling = 'avg',weights = resnet_weights_path))\n",
    "    model2.add(BatchNormalization())\n",
    "\n",
    "    # 2nd layer as Dense for 2-class classification, i.e., dog or cat using SoftMax activation\n",
    "    model2.add(Dense(NUM_CLASSES, activation = DENSE_LAYER_ACTIVATION))\n",
    "    model2.load_weights(\"model1.h5\")\n",
    "\n",
    "    # Say not to train first layer (ResNet) model as it is already trained\n",
    "    \n",
    "    return model2\n",
    "\n",
    "def Third_keras_model():\n",
    "    model3 = Sequential()\n",
    "\n",
    "    # 1st layer as the lumpsum weights from resnet50_weights_tf_dim_ordering_tf_kernels_notop.h5\n",
    "    # NOTE that this layer will be set below as NOT TRAINABLE, i.e., use it as is\n",
    "    model3.add(ResNet50(include_top = False,input_shape=(229,229,3), pooling = 'avg',weights = resnet_weights_path))\n",
    "    model3.add(BatchNormalization())\n",
    "\n",
    "    # 2nd layer as Dense for 2-class classification, i.e., dog or cat using SoftMax activation\n",
    "    model3.add(Dense(NUM_CLASSES, activation = DENSE_LAYER_ACTIVATION))\n",
    "    model3.load_weights(\"model2.h5\")\n",
    "\n",
    "    # Say not to train first layer (ResNet) model as it is already trained\n",
    "    \n",
    "    return model3"
   ]
  },
  {
   "cell_type": "code",
   "execution_count": 23,
   "metadata": {},
   "outputs": [],
   "source": [
    "def test(xt, yt):\n",
    "    model = tf.keras.models.load_model('model2.h5')\n",
    "    xt = np.load('data/x_test.npy')\n",
    "    yt = np.load('data/y_test.npy')\n",
    "    y_pred = model.predict(xt)\n",
    "    confusion_matrix_info(yt, np.argmax(y_pred, axis=1),title='confusion_matrix_test')"
   ]
  },
  {
   "cell_type": "code",
   "execution_count": 24,
   "metadata": {},
   "outputs": [],
   "source": [
    "batch_size=32\n",
    "optimizer=Adam()"
   ]
  },
  {
   "cell_type": "code",
   "execution_count": 29,
   "metadata": {},
   "outputs": [
    {
     "name": "stdout",
     "output_type": "stream",
     "text": [
      "Model: \"sequential_3\"\n",
      "_________________________________________________________________\n",
      "Layer (type)                 Output Shape              Param #   \n",
      "=================================================================\n",
      "resnet50 (Model)             (None, 2048)              23587712  \n",
      "_________________________________________________________________\n",
      "batch_normalization_1 (Batch (None, 2048)              8192      \n",
      "_________________________________________________________________\n",
      "dense_4 (Dense)              (None, 3)                 6147      \n",
      "=================================================================\n",
      "Total params: 23,602,051\n",
      "Trainable params: 10,243\n",
      "Non-trainable params: 23,591,808\n",
      "_________________________________________________________________\n",
      "None\n",
      "Train on 13958 samples\n",
      "Epoch 1/3\n",
      "   32/13958 [..............................] - ETA: 59:14 - loss: 1.4029 - accuracy: 0.4062WARNING:tensorflow:Method (on_train_batch_end) is slow compared to the batch update (0.318297). Check your callbacks.\n",
      "13958/13958 [==============================] - 104s 7ms/sample - loss: 1.3747 - accuracy: 0.4170\n",
      "Epoch 2/3\n",
      "13958/13958 [==============================] - 80s 6ms/sample - loss: 1.0229 - accuracy: 0.6207\n",
      "Epoch 3/3\n",
      "   32/13958 [..............................] - ETA: 49s - loss: 1.2733 - accuracy: 0.7812WARNING:tensorflow:Method (on_train_batch_end) is slow compared to the batch update (0.173794). Check your callbacks.\n",
      " 4352/13958 [========>.....................] - ETA: 55s - loss: 1.7057 - accuracy: 0.6792"
     ]
    },
    {
     "data": {
      "image/png": "[encoded data removed]",
      "text/plain": [
       "<Figure size 864x432 with 1 Axes>"
      ]
     },
     "metadata": {
      "needs_background": "light"
     },
     "output_type": "display_data"
    },
    {
     "data": {
      "text/plain": [
       "<tensorflow.python.keras.callbacks.History at 0x1e769251388>"
      ]
     },
     "execution_count": 29,
     "metadata": {},
     "output_type": "execute_result"
    }
   ],
   "source": [
    "model = first_keras_model()\n",
    "model.layers[0].trainable = False\n",
    "print(model.summary())\n",
    "opt=Adam()\n",
    "model.compile(loss='categorical_crossentropy', optimizer=opt, metrics=['accuracy'])\n",
    "\n",
    "start_lr = 1e-4\n",
    "end_lr = 1e0\n",
    "no_epochs = 3\n",
    "\n",
    "lr_finder = LRFinder(min_lr=start_lr, max_lr=end_lr)\n",
    "\n",
    "# Perform LR finder\n",
    "model.fit(xtrain_128, ytrain, batch_size=32, callbacks=[lr_finder], epochs=no_epochs, verbose=1)"
   ]
  },
  {
   "cell_type": "code",
   "execution_count": 30,
   "metadata": {},
   "outputs": [],
   "source": [
    "clr_step_size = int(4 * (len(xtrain_128)/32))\n",
    "base_lr = 1e-4\n",
    "max_lr = 1e-2\n",
    "mode='triangular'"
   ]
  },
  {
   "cell_type": "code",
   "execution_count": 31,
   "metadata": {},
   "outputs": [],
   "source": [
    "clr = CyclicLR(base_lr=base_lr, max_lr=max_lr, step_size=clr_step_size, mode=mode)"
   ]
  },
  {
   "cell_type": "code",
   "execution_count": 32,
   "metadata": {},
   "outputs": [
    {
     "name": "stdout",
     "output_type": "stream",
     "text": [
      "Train on 13958 samples\n",
      "Epoch 1/3\n",
      "13958/13958 [==============================] - 54s 4ms/sample - loss: 0.5600 - accuracy: 0.7931\n",
      "Epoch 2/3\n",
      "13958/13958 [==============================] - 50s 4ms/sample - loss: 0.5054 - accuracy: 0.8390\n",
      "Epoch 3/3\n",
      "13958/13958 [==============================] - 51s 4ms/sample - loss: 0.6285 - accuracy: 0.8385\n"
     ]
    },
    {
     "data": {
      "text/plain": [
       "<tensorflow.python.keras.callbacks.History at 0x1e76a41b348>"
      ]
     },
     "execution_count": 32,
     "metadata": {},
     "output_type": "execute_result"
    }
   ],
   "source": [
    "# Compile the model\n",
    "model.compile(loss='categorical_crossentropy',\n",
    "              optimizer=opt,\n",
    "              metrics=['accuracy'])\n",
    "\n",
    "# Fit data to model\n",
    "model.fit(xtrain_128, ytrain, batch_size=32, callbacks=[clr], epochs=no_epochs, verbose=1)\n"
   ]
  }
 ],
 "metadata": {
  "kernelspec": {
   "display_name": "Python 3",
   "language": "python",
   "name": "python3"
  },
  "language_info": {
   "codemirror_mode": {
    "name": "ipython",
    "version": 3
   },
   "file_extension": ".py",
   "mimetype": "text/x-python",
   "name": "python",
   "nbconvert_exporter": "python",
   "pygments_lexer": "ipython3",
   "version": "3.7.7"
  }
 },
 "nbformat": 4,
 "nbformat_minor": 4
}
