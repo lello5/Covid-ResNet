{
  "nbformat": 4,
  "nbformat_minor": 0,
  "metadata": {
    "colab": {
      "name": "Stage 3.ipynb",
      "provenance": [],
      "collapsed_sections": []
    },
    "kernelspec": {
      "name": "python3",
      "display_name": "Python 3"
    },
    "accelerator": "GPU"
  },
  "cells": [
    {
      "cell_type": "code",
      "metadata": {
        "id": "Y0PtuNkfDN5_"
      },
      "source": [
        "Stage 3 training on 229*229"
      ],
      "execution_count": null,
      "outputs": []
    },
    {
      "cell_type": "code",
      "metadata": {
        "id": "eDBEKKEnEq9v",
        "colab": {
          "base_uri": "https://localhost:8080/"
        },
        "outputId": "1fc46444-266a-4ccb-b703-ca77b4aaec1d"
      },
      "source": [
        "from google.colab import drive\n",
        "drive.mount('/content/drive')"
      ],
      "execution_count": 2,
      "outputs": [
        {
          "output_type": "stream",
          "text": [
            "Mounted at /content/drive\n"
          ],
          "name": "stdout"
        }
      ]
    },
    {
      "cell_type": "code",
      "metadata": {
        "id": "xAZ07Rs0pg8u",
        "colab": {
          "base_uri": "https://localhost:8080/"
        },
        "outputId": "bbbe896b-f7ce-4f12-c42e-d8f305b67d1b"
      },
      "source": [
        "%cd drive/MyDrive/Project/COVID-19-master"
      ],
      "execution_count": 3,
      "outputs": [
        {
          "output_type": "stream",
          "text": [
            "/content/drive/.shortcut-targets-by-id/148tduUm3_N2YmcWCKycU5qdfNmgLJccA/Project/COVID-19-master\n"
          ],
          "name": "stdout"
        }
      ]
    },
    {
      "cell_type": "code",
      "metadata": {
        "id": "iPZUIptJ5CQt"
      },
      "source": [
        "# #importing \n",
        "import cv2\n",
        "import numpy as np\n",
        "import matplotlib.pyplot as plt\n",
        "import os\n",
        "from tqdm import tqdm"
      ],
      "execution_count": 4,
      "outputs": []
    },
    {
      "cell_type": "code",
      "metadata": {
        "id": "-YVqCCFcuBg3"
      },
      "source": [
        "import numpy as np\n",
        "import tensorflow as tf\n",
        "\n",
        "from tensorflow.keras.applications import ResNet50\n",
        "from tensorflow.keras.models import Sequential\n",
        "from tensorflow.keras.layers import Dense, BatchNormalization"
      ],
      "execution_count": 5,
      "outputs": []
    },
    {
      "cell_type": "code",
      "metadata": {
        "colab": {
          "base_uri": "https://localhost:8080/"
        },
        "id": "fkudCtj-tNVc",
        "outputId": "d8a5e446-922d-4150-c6d5-4f8ad0c15602"
      },
      "source": [
        "from os import listdir\n",
        "from os.path import isfile, join\n",
        "xtrain_229=np.load('data/x_train_229.npy')\n",
        "ytrain = np.load('data/y_train.npy')\n",
        "print(\"RUN HOGAYA\")\n",
        "    \n",
        "xtest = np.load('data/x_test.npy')\n",
        "ytest = np.load('data/y_test.npy')"
      ],
      "execution_count": 6,
      "outputs": [
        {
          "output_type": "stream",
          "text": [
            "RUN HOGAYA\n"
          ],
          "name": "stdout"
        }
      ]
    },
    {
      "cell_type": "markdown",
      "metadata": {
        "id": "cVxjAl-ytMGr"
      },
      "source": [
        "229 wala"
      ]
    },
    {
      "cell_type": "code",
      "metadata": {
        "id": "d_UdPn5BtWNK"
      },
      "source": [
        "def confusion_matrix_info(y_true, y_pred, labels=['normal', 'pneumonia',  'COVID-19'],\n",
        "                          title='confusion matrix'):\n",
        "    import seaborn as sns\n",
        "    import pandas as pd\n",
        "    from sklearn.metrics import confusion_matrix, f1_score\n",
        "    import matplotlib.pyplot as plt\n",
        "    C2 = confusion_matrix(y_true, y_pred)\n",
        "    C = pd.DataFrame(C2, columns=labels, index=labels)\n",
        "    m, _ = C2.shape\n",
        "    for i in range(m):\n",
        "        precision = C2[i, i] / sum(C2[:, i])\n",
        "        recall = C2[i, i] / sum(C2[i, :])\n",
        "        f1 = 2 * precision * recall / (precision + recall)\n",
        "        print('In class {}:\\t total samples: {}\\t true predict samples: {}\\t'\n",
        "              'acc={:.4f},\\trecall={:.4f},\\tf1-score={:.4f}'.format(\n",
        "            labels[i], sum(C2[i, :]), C2[i, i], precision, recall, f1))\n",
        "    print('-' * 100, '\\n', 'average f1={:.4f}'.format(f1_score(y_true, y_pred, average='micro')))\n",
        " \n",
        "    f, ax = plt.subplots()\n",
        "    sns.heatmap(C, annot=True, ax=ax, cmap=plt.cm.binary)\n",
        "    ax.set_title(title)\n",
        "    ax.set_xlabel('predict')\n",
        "    ax.set_ylabel('true')\n",
        "    plt.savefig(title+'.jpg')"
      ],
      "execution_count": 7,
      "outputs": []
    },
    {
      "cell_type": "code",
      "metadata": {
        "id": "XXo7r55ftWNK"
      },
      "source": [
        "\n",
        "resnet_weights_path = 'resnet50_weights_tf_dim_ordering_tf_kernels_notop.h5'\n",
        "NUM_CLASSES = 3\n",
        "DENSE_LAYER_ACTIVATION = 'softmax'\n",
        "\n"
      ],
      "execution_count": 10,
      "outputs": []
    },
    {
      "cell_type": "code",
      "metadata": {
        "id": "K0Z7sEgdd2FW"
      },
      "source": [
        "#resnet_weights_path = 'resnet50_weights_tf_dim_ordering_tf_kernels_notop.h5'\n",
        "NUM_CLASSES = 3\n",
        "DENSE_LAYER_ACTIVATION = 'softmax'\n",
        "\n",
        "\n",
        "\n",
        "def Third_keras_model():\n",
        "    model3 = Sequential()\n",
        "\n",
        "    # 1st layer as the lumpsum weights from resnet50_weights_tf_dim_ordering_tf_kernels_notop.h5\n",
        "    # NOTE that this layer will be set below as NOT TRAINABLE, i.e., use it as is\n",
        "    model3.add(ResNet50(include_top = False,input_shape=(229,229,3), pooling = 'avg',weights = resnet_weights_path))\n",
        "    model3.add(BatchNormalization())\n",
        "\n",
        "    # 2nd layer as Dense for 2-class classification, i.e., dog or cat using SoftMax activation\n",
        "    model3.add(Dense(NUM_CLASSES, activation = DENSE_LAYER_ACTIVATION))\n",
        "    model3.load_weights(\"model2.h5\")\n",
        "\n",
        "    # Say not to train first layer (ResNet) model as it is already trained\n",
        "    \n",
        "    return model3"
      ],
      "execution_count": 17,
      "outputs": []
    },
    {
      "cell_type": "code",
      "metadata": {
        "id": "icGl2kD9Oi5Z"
      },
      "source": [
        "def train(xtrain229, y,x_test,y_test):\n",
        "    y = tf.keras.utils.to_categorical(y, 3)\n",
        "    y_test = tf.keras.utils.to_categorical(y_test, 3)\n",
        "\n",
        "\n",
        "    #TRAINING ON 229*229 WITH FREEZED RESNET LAYER\n",
        "    model3 = Third_keras_model()\n",
        "    model3=model3\n",
        "    model3.layers[0].trainable = False\n",
        "    print(model3.summary())\n",
        "    opt=tf.keras.optimizers.Adam(lr=0.00001)\n",
        "    model3.compile(loss='categorical_crossentropy', optimizer=opt, metrics=['accuracy'])\n",
        "    hist = model3.fit(xtrain229, y, batch_size=32, validation_data=(x_test, y_test), epochs=25, verbose=1)\n",
        "    model3.save('Final_model.h5')\n",
        "    y_pred = model3.predict(xtrain229)\n",
        "    confusion_matrix_info(np.argmax(y, axis=1), np.argmax(y_pred, axis=1),title='confusion_matrix_train')"
      ],
      "execution_count": 19,
      "outputs": []
    },
    {
      "cell_type": "code",
      "metadata": {
        "id": "XMcHH1qUsSZN"
      },
      "source": [
        "def test(xt, yt):\n",
        "    model = tf.keras.models.load_model('Final_model.h5')\n",
        "    \n",
        "    y_pred = model.predict(xt)\n",
        "    confusion_matrix_info(yt, np.argmax(y_pred, axis=1),title='confusion_matrix_test')"
      ],
      "execution_count": 26,
      "outputs": []
    },
    {
      "cell_type": "code",
      "metadata": {
        "id": "cWzTqgEfEDFe"
      },
      "source": [
        "train(xtrain_229, ytrain,xtest,ytest)"
      ],
      "execution_count": null,
      "outputs": []
    },
    {
      "cell_type": "code",
      "metadata": {
        "colab": {
          "base_uri": "https://localhost:8080/",
          "height": 434
        },
        "id": "Pp2L5HpyqV8c",
        "outputId": "4464a035-aca6-454b-aac1-f254ca7434ee"
      },
      "source": [
        "test(xtest, ytest)"
      ],
      "execution_count": 24,
      "outputs": [
        {
          "output_type": "stream",
          "text": [
            "WARNING:tensorflow:Model was constructed with shape (None, 229, 229, 3) for input Tensor(\"resnet50_input_2:0\", shape=(None, 229, 229, 3), dtype=float32), but it was called on an input with incompatible shape (None, 224, 224, 3).\n",
            "WARNING:tensorflow:Model was constructed with shape (None, 229, 229, 3) for input Tensor(\"input_2_1:0\", shape=(None, 229, 229, 3), dtype=float32), but it was called on an input with incompatible shape (None, 224, 224, 3).\n",
            "In class normal:\t total samples: 100\t true predict samples: 92\tacc=0.8679,\trecall=0.9200,\tf1-score=0.8932\n",
            "In class pneumonia:\t total samples: 100\t true predict samples: 93\tacc=0.7500,\trecall=0.9300,\tf1-score=0.8304\n",
            "In class COVID-19:\t total samples: 100\t true predict samples: 70\tacc=1.0000,\trecall=0.7000,\tf1-score=0.8235\n",
            "---------------------------------------------------------------------------------------------------- \n",
            " average f1=0.8500\n"
          ],
          "name": "stdout"
        },
        {
          "output_type": "display_data",
          "data": {
            "image/png": "[encoded data removed]",
            "text/plain": [
              "<Figure size 432x288 with 2 Axes>"
            ]
          },
          "metadata": {
            "tags": [],
            "needs_background": "light"
          }
        }
      ]
    },
    {
      "cell_type": "code",
      "metadata": {
        "colab": {
          "base_uri": "https://localhost:8080/",
          "height": 400
        },
        "id": "Zu6WZaxa7jQH",
        "outputId": "99ad939d-d291-44fd-acaf-bb89611385c8"
      },
      "source": [
        "test(xtrain_229, ytrain)"
      ],
      "execution_count": 27,
      "outputs": [
        {
          "output_type": "stream",
          "text": [
            "In class normal:\t total samples: 7966\t true predict samples: 7852\tacc=0.9754,\trecall=0.9857,\tf1-score=0.9805\n",
            "In class pneumonia:\t total samples: 5475\t true predict samples: 5272\tacc=0.9768,\trecall=0.9629,\tf1-score=0.9698\n",
            "In class COVID-19:\t total samples: 517\t true predict samples: 497\tacc=0.9726,\trecall=0.9613,\tf1-score=0.9669\n",
            "---------------------------------------------------------------------------------------------------- \n",
            " average f1=0.9759\n"
          ],
          "name": "stdout"
        },
        {
          "output_type": "display_data",
          "data": {
            "image/png": "[encoded data removed]",
            "text/plain": [
              "<Figure size 432x288 with 2 Axes>"
            ]
          },
          "metadata": {
            "tags": [],
            "needs_background": "light"
          }
        }
      ]
    }
  ]
}