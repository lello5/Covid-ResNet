{
  "nbformat": 4,
  "nbformat_minor": 0,
  "metadata": {
    "colab": {
      "name": "PreProcessing.ipynb",
      "provenance": [],
      "collapsed_sections": []
    },
    "kernelspec": {
      "name": "python3",
      "display_name": "Python 3"
    },
    "accelerator": "GPU"
  },
  "cells": [
    {
      "cell_type": "markdown",
      "metadata": {
        "id": "pGAORVDUHtQV"
      },
      "source": [
        "Preprocessing to convert images data into numpy array"
      ]
    },
    {
      "cell_type": "code",
      "metadata": {
        "colab": {
          "base_uri": "https://localhost:8080/"
        },
        "id": "eDBEKKEnEq9v",
        "outputId": "ffdcd1b6-61aa-417f-f334-daff7d200ca8"
      },
      "source": [
        "from google.colab import drive\n",
        "drive.mount('/content/drive')"
      ],
      "execution_count": null,
      "outputs": [
        {
          "output_type": "stream",
          "text": [
            "Mounted at /content/drive\n"
          ],
          "name": "stdout"
        }
      ]
    },
    {
      "cell_type": "code",
      "metadata": {
        "id": "xAZ07Rs0pg8u"
      },
      "source": [
        "%cd drive/MyDrive\n",
        "%cd Project/COVID-19-master\n",
        "!ls"
      ],
      "execution_count": null,
      "outputs": []
    },
    {
      "cell_type": "code",
      "metadata": {
        "id": "iPZUIptJ5CQt"
      },
      "source": [
        "# # #importing \n",
        "import cv2\n",
        "import numpy as np\n",
        "import matplotlib.pyplot as plt\n",
        "import os\n",
        "from tqdm import tqdm"
      ],
      "execution_count": null,
      "outputs": []
    },
    {
      "cell_type": "code",
      "metadata": {
        "id": "-YVqCCFcuBg3"
      },
      "source": [
        "import numpy as np\n",
        "import tensorflow as tf\n",
        "\n",
        "from tensorflow.keras.applications import ResNet50\n",
        "from tensorflow.keras.models import Sequential\n",
        "from tensorflow.keras.layers import Dense, BatchNormalization"
      ],
      "execution_count": null,
      "outputs": []
    },
    {
      "cell_type": "markdown",
      "metadata": {
        "id": "FMizz_hj_NeY"
      },
      "source": [
        "DATASET PREPARATION AND PREPROCESSING"
      ]
    },
    {
      "cell_type": "code",
      "metadata": {
        "id": "HDcEG2hD5Kcj"
      },
      "source": [
        "INPUT_SIZE = (128, 128)\n",
        "mapping = {'normal': 0, 'pneumonia': 1,  'COVID-19': 2}\n",
        "train_filepath = 'train_COVIDx5.txt'\n",
        "test_filepath = 'test_COVIDx5.txt'"
      ],
      "execution_count": null,
      "outputs": []
    },
    {
      "cell_type": "code",
      "metadata": {
        "id": "BPRc2Qfx5N6n"
      },
      "source": [
        "# # load in the train and test files\n",
        "file = open(train_filepath, 'r')\n",
        "trainfiles = file.readlines()\n",
        "file = open(test_filepath, 'r')\n",
        "testfiles = file.readlines()"
      ],
      "execution_count": null,
      "outputs": []
    },
    {
      "cell_type": "code",
      "metadata": {
        "id": "B39JKgpZ5R82"
      },
      "source": [
        "print('Total samples for train: ', len(trainfiles))\n",
        "print('Total samples for test: ', len(testfiles))"
      ],
      "execution_count": null,
      "outputs": []
    },
    {
      "cell_type": "code",
      "metadata": {
        "id": "nkd9aTmq5U_t"
      },
      "source": [
        "resize to input size and normalize to 0 - 1\n",
        "x_test = []\n",
        "y_test = []\n",
        "\n",
        "for i in range(len(testfiles)):\n",
        "    test_i = testfiles[i].split()\n",
        "    imgpath = test_i[1]\n",
        "    img = cv2.imread(os.path.join('data', 'test', imgpath))\n",
        "    img = cv2.resize(img, INPUT_SIZE) # resize\n",
        "    img = img.astype('float32') / 255.0\n",
        "    x_test.append(img)\n",
        "    y_test.append(mapping[test_i[2]])\n",
        "\n",
        "print('Shape of test images: ', x_test[0].shape)\n",
        "\n",
        "\n",
        "x_test = []\n",
        "y_test = []\n",
        "\n",
        "for i in range(len(testfiles)):\n",
        "    test_i = testfiles[i].split()\n",
        "    imgpath = test_i[1]\n",
        "    img = cv2.imread(os.path.join('data', 'test', imgpath))\n",
        "    img = cv2.resize(img, INPUT_SIZE) # resize\n",
        "    img = img.astype('float32') / 255.0\n",
        "    x_test.append(img)\n",
        "    y_test.append(mapping[test_i[2]])\n",
        "\n",
        "print('Shape of test images: ', len(x_test))"
      ],
      "execution_count": null,
      "outputs": []
    },
    {
      "cell_type": "code",
      "metadata": {
        "id": "WIoMx0mz5YVe"
      },
      "source": [
        "export to npy to load in for training\n",
        "\n",
        "np.save('data/x_test.npy', x_test)\n",
        "np.save('data/y_test.npy', y_test)"
      ],
      "execution_count": null,
      "outputs": []
    },
    {
      "cell_type": "code",
      "metadata": {
        "id": "CoIiTGPqK2Y4"
      },
      "source": [
        "import cv2\n",
        "import numpy as np\n",
        "import matplotlib.pyplot as plt\n",
        "import os\n",
        "from tqdm import tqdm\n",
        "x_train = []\n",
        "INPUT_SIZE = (128, 128)\n",
        "train_filepath = 'train_COVIDx5.txt'\n",
        "file = open(train_filepath, 'r')\n",
        "trainfiles = file.readlines()\n",
        "for i in tqdm(range(len(trainfiles))):\n",
        "  train_i = trainfiles[i].split()\n",
        "  imgpath = train_i[1]\n",
        "  img = cv2.imread(os.path.join('data', 'train', imgpath))\n",
        "  #print(imgpath)\n",
        "  img = cv2.resize(img, INPUT_SIZE) # resize\n",
        "  img = img.astype('float32') / 255.0\n",
        "  x_train.append(img)\n",
        "np.save('data/x_train_128.npy', x_train)\n",
        " \n",
        " \n",
        "x_train = []\n",
        "INPUT_SIZE = (229, 229)\n",
        "train_filepath = 'train_COVIDx5.txt'\n",
        "file = open(train_filepath, 'r')\n",
        "trainfiles = file.readlines()\n",
        "for i in tqdm(range(len(trainfiles))):\n",
        "  train_i = trainfiles[i].split()\n",
        "  imgpath = train_i[1]\n",
        "  img = cv2.imread(os.path.join('data', 'train', imgpath))\n",
        "  #print(imgpath)\n",
        "  img = cv2.resize(img, INPUT_SIZE) # resize\n",
        "  img = img.astype('float32') / 255.0\n",
        "  x_train.append(img)\n",
        "np.save('data/x_train_229.npy', x_train)\n",
        "# print('Shape of train images: ', x_train[0].shape)"
      ],
      "execution_count": null,
      "outputs": []
    },
    {
      "cell_type": "code",
      "metadata": {
        "id": "QMXautwpGFGB"
      },
      "source": [
        "np.save('data/x_train_128.npy', x_train)\n",
        "np.save('data/y_train.npy', y_train)"
      ],
      "execution_count": null,
      "outputs": []
    }
  ]
}